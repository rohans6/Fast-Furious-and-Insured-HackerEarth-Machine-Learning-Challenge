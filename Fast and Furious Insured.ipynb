{
 "cells": [
  {
   "cell_type": "code",
   "execution_count": 1,
   "id": "popular-eagle",
   "metadata": {
    "execution": {
     "iopub.execute_input": "2021-06-24T04:28:52.679041Z",
     "iopub.status.busy": "2021-06-24T04:28:52.678489Z",
     "iopub.status.idle": "2021-06-24T04:28:59.676654Z",
     "shell.execute_reply": "2021-06-24T04:28:59.676090Z",
     "shell.execute_reply.started": "2021-06-24T04:15:05.879251Z"
    },
    "papermill": {
     "duration": 7.027619,
     "end_time": "2021-06-24T04:28:59.676807",
     "exception": false,
     "start_time": "2021-06-24T04:28:52.649188",
     "status": "completed"
    },
    "tags": []
   },
   "outputs": [],
   "source": [
    "import numpy as np\n",
    "import pandas as pd\n",
    "import matplotlib.pyplot as plt\n",
    "import seaborn as sns\n",
    "from sklearn.model_selection import train_test_split\n",
    "from sklearn.preprocessing import StandardScaler,LabelEncoder\n",
    "from sklearn.ensemble import RandomForestRegressor\n",
    "from sklearn.metrics import mean_absolute_error\n",
    "from sklearn.compose import make_column_transformer\n",
    "import tensorflow as tf\n",
    "import albumentations\n",
    "import os\n",
    "import cv2\n",
    "from sklearn.utils import resample"
   ]
  },
  {
   "cell_type": "code",
   "execution_count": 2,
   "id": "elementary-finder",
   "metadata": {
    "execution": {
     "iopub.execute_input": "2021-06-24T04:28:59.726425Z",
     "iopub.status.busy": "2021-06-24T04:28:59.725928Z",
     "iopub.status.idle": "2021-06-24T04:28:59.748409Z",
     "shell.execute_reply": "2021-06-24T04:28:59.748014Z",
     "shell.execute_reply.started": "2021-06-24T03:22:11.25394Z"
    },
    "papermill": {
     "duration": 0.051759,
     "end_time": "2021-06-24T04:28:59.748533",
     "exception": false,
     "start_time": "2021-06-24T04:28:59.696774",
     "status": "completed"
    },
    "tags": []
   },
   "outputs": [],
   "source": [
    "train=pd.read_csv(\"../input/fast-furious-and-insured/Fast_Furious_Insured/train.csv\")\n",
    "test=pd.read_csv(\"../input/fast-furious-and-insured/Fast_Furious_Insured/test.csv\")"
   ]
  },
  {
   "cell_type": "code",
   "execution_count": 3,
   "id": "practical-african",
   "metadata": {
    "execution": {
     "iopub.execute_input": "2021-06-24T04:28:59.799543Z",
     "iopub.status.busy": "2021-06-24T04:28:59.798815Z",
     "iopub.status.idle": "2021-06-24T04:28:59.808308Z",
     "shell.execute_reply": "2021-06-24T04:28:59.808744Z",
     "shell.execute_reply.started": "2021-06-24T03:22:12.816992Z"
    },
    "papermill": {
     "duration": 0.04167,
     "end_time": "2021-06-24T04:28:59.808873",
     "exception": false,
     "start_time": "2021-06-24T04:28:59.767203",
     "status": "completed"
    },
    "tags": []
   },
   "outputs": [
    {
     "data": {
      "text/html": [
       "<div>\n",
       "<style scoped>\n",
       "    .dataframe tbody tr th:only-of-type {\n",
       "        vertical-align: middle;\n",
       "    }\n",
       "\n",
       "    .dataframe tbody tr th {\n",
       "        vertical-align: top;\n",
       "    }\n",
       "\n",
       "    .dataframe thead th {\n",
       "        text-align: right;\n",
       "    }\n",
       "</style>\n",
       "<table border=\"1\" class=\"dataframe\">\n",
       "  <thead>\n",
       "    <tr style=\"text-align: right;\">\n",
       "      <th></th>\n",
       "      <th>Image_path</th>\n",
       "      <th>Insurance_company</th>\n",
       "      <th>Cost_of_vehicle</th>\n",
       "      <th>Min_coverage</th>\n",
       "      <th>Expiry_date</th>\n",
       "      <th>Max_coverage</th>\n",
       "      <th>Condition</th>\n",
       "      <th>Amount</th>\n",
       "    </tr>\n",
       "  </thead>\n",
       "  <tbody>\n",
       "    <tr>\n",
       "      <th>0</th>\n",
       "      <td>img_4513976.jpg</td>\n",
       "      <td>BQ</td>\n",
       "      <td>41500.0</td>\n",
       "      <td>1037.5</td>\n",
       "      <td>2026-12-03</td>\n",
       "      <td>36142.68</td>\n",
       "      <td>0</td>\n",
       "      <td>0.0</td>\n",
       "    </tr>\n",
       "    <tr>\n",
       "      <th>1</th>\n",
       "      <td>img_7764995.jpg</td>\n",
       "      <td>BQ</td>\n",
       "      <td>50700.0</td>\n",
       "      <td>1267.5</td>\n",
       "      <td>2025-07-10</td>\n",
       "      <td>12753.00</td>\n",
       "      <td>1</td>\n",
       "      <td>6194.0</td>\n",
       "    </tr>\n",
       "    <tr>\n",
       "      <th>2</th>\n",
       "      <td>img_451308.jpg</td>\n",
       "      <td>A</td>\n",
       "      <td>49500.0</td>\n",
       "      <td>1237.5</td>\n",
       "      <td>2022-08-11</td>\n",
       "      <td>43102.68</td>\n",
       "      <td>0</td>\n",
       "      <td>0.0</td>\n",
       "    </tr>\n",
       "    <tr>\n",
       "      <th>3</th>\n",
       "      <td>img_7768372.jpg</td>\n",
       "      <td>A</td>\n",
       "      <td>33500.0</td>\n",
       "      <td>837.5</td>\n",
       "      <td>2022-08-02</td>\n",
       "      <td>8453.00</td>\n",
       "      <td>1</td>\n",
       "      <td>7699.0</td>\n",
       "    </tr>\n",
       "    <tr>\n",
       "      <th>4</th>\n",
       "      <td>img_7765274.jpg</td>\n",
       "      <td>AC</td>\n",
       "      <td>27600.0</td>\n",
       "      <td>690.0</td>\n",
       "      <td>2026-05-01</td>\n",
       "      <td>6978.00</td>\n",
       "      <td>1</td>\n",
       "      <td>8849.0</td>\n",
       "    </tr>\n",
       "  </tbody>\n",
       "</table>\n",
       "</div>"
      ],
      "text/plain": [
       "        Image_path Insurance_company  Cost_of_vehicle  Min_coverage  \\\n",
       "0  img_4513976.jpg                BQ          41500.0        1037.5   \n",
       "1  img_7764995.jpg                BQ          50700.0        1267.5   \n",
       "2   img_451308.jpg                 A          49500.0        1237.5   \n",
       "3  img_7768372.jpg                 A          33500.0         837.5   \n",
       "4  img_7765274.jpg                AC          27600.0         690.0   \n",
       "\n",
       "  Expiry_date  Max_coverage  Condition  Amount  \n",
       "0  2026-12-03      36142.68          0     0.0  \n",
       "1  2025-07-10      12753.00          1  6194.0  \n",
       "2  2022-08-11      43102.68          0     0.0  \n",
       "3  2022-08-02       8453.00          1  7699.0  \n",
       "4  2026-05-01       6978.00          1  8849.0  "
      ]
     },
     "execution_count": 3,
     "metadata": {},
     "output_type": "execute_result"
    }
   ],
   "source": [
    "train.head()"
   ]
  },
  {
   "cell_type": "code",
   "execution_count": 4,
   "id": "broadband-first",
   "metadata": {
    "execution": {
     "iopub.execute_input": "2021-06-24T04:28:59.852858Z",
     "iopub.status.busy": "2021-06-24T04:28:59.852081Z",
     "iopub.status.idle": "2021-06-24T04:28:59.863110Z",
     "shell.execute_reply": "2021-06-24T04:28:59.863536Z",
     "shell.execute_reply.started": "2021-06-24T03:22:14.091174Z"
    },
    "papermill": {
     "duration": 0.035574,
     "end_time": "2021-06-24T04:28:59.863654",
     "exception": false,
     "start_time": "2021-06-24T04:28:59.828080",
     "status": "completed"
    },
    "tags": []
   },
   "outputs": [
    {
     "name": "stdout",
     "output_type": "stream",
     "text": [
      "<class 'pandas.core.frame.DataFrame'>\n",
      "RangeIndex: 1399 entries, 0 to 1398\n",
      "Data columns (total 8 columns):\n",
      " #   Column             Non-Null Count  Dtype  \n",
      "---  ------             --------------  -----  \n",
      " 0   Image_path         1399 non-null   object \n",
      " 1   Insurance_company  1399 non-null   object \n",
      " 2   Cost_of_vehicle    1310 non-null   float64\n",
      " 3   Min_coverage       1310 non-null   float64\n",
      " 4   Expiry_date        1399 non-null   object \n",
      " 5   Max_coverage       1310 non-null   float64\n",
      " 6   Condition          1399 non-null   int64  \n",
      " 7   Amount             1388 non-null   float64\n",
      "dtypes: float64(4), int64(1), object(3)\n",
      "memory usage: 87.6+ KB\n"
     ]
    }
   ],
   "source": [
    "train.info()"
   ]
  },
  {
   "cell_type": "markdown",
   "id": "indian-austin",
   "metadata": {
    "papermill": {
     "duration": 0.01885,
     "end_time": "2021-06-24T04:28:59.901940",
     "exception": false,
     "start_time": "2021-06-24T04:28:59.883090",
     "status": "completed"
    },
    "tags": []
   },
   "source": [
    "* Image_path:- Path of Image in Fast_Furious_Insured Folder.\n",
    "\n",
    "* Insurance_company:- Represents masked values of some insurance companies.\n",
    "\n",
    "* Cost of Vehicle:- Represents the cost of a vehicle present in the image.\n",
    "\n",
    "* Min_coverage:- Represents the minimum coverage provided by an insurance company.\n",
    "\n",
    "* Expiry_date:- Represents the expiry date of the insurance.\n",
    "\n",
    "* Max_coverage:- Represents the maximum coverage provided by an insurance company.\n",
    "\n",
    "* Condition:-Represents whether a vehicle is damaged\n",
    "\n",
    "* Amount:- Represents the insurance amount of a vehicle"
   ]
  },
  {
   "cell_type": "code",
   "execution_count": 5,
   "id": "careful-interface",
   "metadata": {
    "execution": {
     "iopub.execute_input": "2021-06-24T04:28:59.947348Z",
     "iopub.status.busy": "2021-06-24T04:28:59.946515Z",
     "iopub.status.idle": "2021-06-24T04:28:59.967680Z",
     "shell.execute_reply": "2021-06-24T04:28:59.967281Z",
     "shell.execute_reply.started": "2021-06-24T03:22:15.764298Z"
    },
    "papermill": {
     "duration": 0.046447,
     "end_time": "2021-06-24T04:28:59.967784",
     "exception": false,
     "start_time": "2021-06-24T04:28:59.921337",
     "status": "completed"
    },
    "tags": []
   },
   "outputs": [
    {
     "data": {
      "text/html": [
       "<div>\n",
       "<style scoped>\n",
       "    .dataframe tbody tr th:only-of-type {\n",
       "        vertical-align: middle;\n",
       "    }\n",
       "\n",
       "    .dataframe tbody tr th {\n",
       "        vertical-align: top;\n",
       "    }\n",
       "\n",
       "    .dataframe thead th {\n",
       "        text-align: right;\n",
       "    }\n",
       "</style>\n",
       "<table border=\"1\" class=\"dataframe\">\n",
       "  <thead>\n",
       "    <tr style=\"text-align: right;\">\n",
       "      <th></th>\n",
       "      <th>Cost_of_vehicle</th>\n",
       "      <th>Min_coverage</th>\n",
       "      <th>Max_coverage</th>\n",
       "      <th>Condition</th>\n",
       "      <th>Amount</th>\n",
       "    </tr>\n",
       "  </thead>\n",
       "  <tbody>\n",
       "    <tr>\n",
       "      <th>count</th>\n",
       "      <td>1310.000000</td>\n",
       "      <td>1310.000000</td>\n",
       "      <td>1310.000000</td>\n",
       "      <td>1399.000000</td>\n",
       "      <td>1388.000000</td>\n",
       "    </tr>\n",
       "    <tr>\n",
       "      <th>mean</th>\n",
       "      <td>37454.274809</td>\n",
       "      <td>936.356870</td>\n",
       "      <td>11242.925160</td>\n",
       "      <td>0.929235</td>\n",
       "      <td>4117.144092</td>\n",
       "    </tr>\n",
       "    <tr>\n",
       "      <th>std</th>\n",
       "      <td>8921.428143</td>\n",
       "      <td>223.035704</td>\n",
       "      <td>7163.735952</td>\n",
       "      <td>0.256523</td>\n",
       "      <td>3151.516223</td>\n",
       "    </tr>\n",
       "    <tr>\n",
       "      <th>min</th>\n",
       "      <td>11100.000000</td>\n",
       "      <td>277.500000</td>\n",
       "      <td>2853.000000</td>\n",
       "      <td>0.000000</td>\n",
       "      <td>-999.000000</td>\n",
       "    </tr>\n",
       "    <tr>\n",
       "      <th>25%</th>\n",
       "      <td>29800.000000</td>\n",
       "      <td>745.000000</td>\n",
       "      <td>7603.000000</td>\n",
       "      <td>1.000000</td>\n",
       "      <td>1641.750000</td>\n",
       "    </tr>\n",
       "    <tr>\n",
       "      <th>50%</th>\n",
       "      <td>37300.000000</td>\n",
       "      <td>932.500000</td>\n",
       "      <td>9678.000000</td>\n",
       "      <td>1.000000</td>\n",
       "      <td>4070.000000</td>\n",
       "    </tr>\n",
       "    <tr>\n",
       "      <th>75%</th>\n",
       "      <td>45175.000000</td>\n",
       "      <td>1129.375000</td>\n",
       "      <td>11703.000000</td>\n",
       "      <td>1.000000</td>\n",
       "      <td>6039.500000</td>\n",
       "    </tr>\n",
       "    <tr>\n",
       "      <th>max</th>\n",
       "      <td>53500.000000</td>\n",
       "      <td>1337.500000</td>\n",
       "      <td>46495.680000</td>\n",
       "      <td>1.000000</td>\n",
       "      <td>59844.000000</td>\n",
       "    </tr>\n",
       "  </tbody>\n",
       "</table>\n",
       "</div>"
      ],
      "text/plain": [
       "       Cost_of_vehicle  Min_coverage  Max_coverage    Condition        Amount\n",
       "count      1310.000000   1310.000000   1310.000000  1399.000000   1388.000000\n",
       "mean      37454.274809    936.356870  11242.925160     0.929235   4117.144092\n",
       "std        8921.428143    223.035704   7163.735952     0.256523   3151.516223\n",
       "min       11100.000000    277.500000   2853.000000     0.000000   -999.000000\n",
       "25%       29800.000000    745.000000   7603.000000     1.000000   1641.750000\n",
       "50%       37300.000000    932.500000   9678.000000     1.000000   4070.000000\n",
       "75%       45175.000000   1129.375000  11703.000000     1.000000   6039.500000\n",
       "max       53500.000000   1337.500000  46495.680000     1.000000  59844.000000"
      ]
     },
     "execution_count": 5,
     "metadata": {},
     "output_type": "execute_result"
    }
   ],
   "source": [
    "train.describe()"
   ]
  },
  {
   "cell_type": "code",
   "execution_count": 6,
   "id": "improving-marker",
   "metadata": {
    "execution": {
     "iopub.execute_input": "2021-06-24T04:29:00.015133Z",
     "iopub.status.busy": "2021-06-24T04:29:00.014355Z",
     "iopub.status.idle": "2021-06-24T04:29:04.218645Z",
     "shell.execute_reply": "2021-06-24T04:29:04.218213Z",
     "shell.execute_reply.started": "2021-06-24T03:22:17.386177Z"
    },
    "papermill": {
     "duration": 4.229686,
     "end_time": "2021-06-24T04:29:04.218761",
     "exception": false,
     "start_time": "2021-06-24T04:28:59.989075",
     "status": "completed"
    },
    "tags": []
   },
   "outputs": [
    {
     "data": {
      "text/plain": [
       "<seaborn.axisgrid.PairGrid at 0x7efefa6b7b90>"
      ]
     },
     "execution_count": 6,
     "metadata": {},
     "output_type": "execute_result"
    },
    {
     "data": {
      "image/png": "[encoded data removed]",
      "text/plain": [
       "<Figure size 900x900 with 30 Axes>"
      ]
     },
     "metadata": {
      "needs_background": "light"
     },
     "output_type": "display_data"
    }
   ],
   "source": [
    "sns.pairplot(train)"
   ]
  },
  {
   "cell_type": "markdown",
   "id": "formed-means",
   "metadata": {
    "papermill": {
     "duration": 0.022458,
     "end_time": "2021-06-24T04:29:04.264348",
     "exception": false,
     "start_time": "2021-06-24T04:29:04.241890",
     "status": "completed"
    },
    "tags": []
   },
   "source": [
    "* The Condition column  is highly Imbalanced \n",
    "\n",
    "* There is a clear Decision Boundry based on Max_coverage which seprates 2 classes."
   ]
  },
  {
   "cell_type": "code",
   "execution_count": 7,
   "id": "regulated-platform",
   "metadata": {
    "execution": {
     "iopub.execute_input": "2021-06-24T04:29:04.321368Z",
     "iopub.status.busy": "2021-06-24T04:29:04.320584Z",
     "iopub.status.idle": "2021-06-24T04:29:04.324295Z",
     "shell.execute_reply": "2021-06-24T04:29:04.323889Z",
     "shell.execute_reply.started": "2021-06-24T03:25:45.305077Z"
    },
    "papermill": {
     "duration": 0.037221,
     "end_time": "2021-06-24T04:29:04.324401",
     "exception": false,
     "start_time": "2021-06-24T04:29:04.287180",
     "status": "completed"
    },
    "tags": []
   },
   "outputs": [
    {
     "data": {
      "text/html": [
       "<div>\n",
       "<style scoped>\n",
       "    .dataframe tbody tr th:only-of-type {\n",
       "        vertical-align: middle;\n",
       "    }\n",
       "\n",
       "    .dataframe tbody tr th {\n",
       "        vertical-align: top;\n",
       "    }\n",
       "\n",
       "    .dataframe thead th {\n",
       "        text-align: right;\n",
       "    }\n",
       "</style>\n",
       "<table border=\"1\" class=\"dataframe\">\n",
       "  <thead>\n",
       "    <tr style=\"text-align: right;\">\n",
       "      <th></th>\n",
       "      <th>Image_path</th>\n",
       "      <th>Insurance_company</th>\n",
       "      <th>Cost_of_vehicle</th>\n",
       "      <th>Min_coverage</th>\n",
       "      <th>Expiry_date</th>\n",
       "      <th>Max_coverage</th>\n",
       "      <th>Condition</th>\n",
       "      <th>Amount</th>\n",
       "    </tr>\n",
       "  </thead>\n",
       "  <tbody>\n",
       "    <tr>\n",
       "      <th>1324</th>\n",
       "      <td>img_7767995.jpg</td>\n",
       "      <td>AA</td>\n",
       "      <td>32500.0</td>\n",
       "      <td>812.5</td>\n",
       "      <td>2022-03-03</td>\n",
       "      <td>8203.0</td>\n",
       "      <td>1</td>\n",
       "      <td>59844.0</td>\n",
       "    </tr>\n",
       "  </tbody>\n",
       "</table>\n",
       "</div>"
      ],
      "text/plain": [
       "           Image_path Insurance_company  Cost_of_vehicle  Min_coverage  \\\n",
       "1324  img_7767995.jpg                AA          32500.0         812.5   \n",
       "\n",
       "     Expiry_date  Max_coverage  Condition   Amount  \n",
       "1324  2022-03-03        8203.0          1  59844.0  "
      ]
     },
     "execution_count": 7,
     "metadata": {},
     "output_type": "execute_result"
    }
   ],
   "source": [
    "train.loc[train.Amount>train.Cost_of_vehicle]"
   ]
  },
  {
   "cell_type": "markdown",
   "id": "intimate-plymouth",
   "metadata": {
    "papermill": {
     "duration": 0.022787,
     "end_time": "2021-06-24T04:29:04.370406",
     "exception": false,
     "start_time": "2021-06-24T04:29:04.347619",
     "status": "completed"
    },
    "tags": []
   },
   "source": [
    "This Amount is clear a mistake because Insurance Amount can never be greather then Cost_of_vehicle"
   ]
  },
  {
   "cell_type": "code",
   "execution_count": 8,
   "id": "sublime-background",
   "metadata": {
    "execution": {
     "iopub.execute_input": "2021-06-24T04:29:04.420356Z",
     "iopub.status.busy": "2021-06-24T04:29:04.419615Z",
     "iopub.status.idle": "2021-06-24T04:29:04.424010Z",
     "shell.execute_reply": "2021-06-24T04:29:04.424437Z",
     "shell.execute_reply.started": "2021-06-24T03:27:27.730893Z"
    },
    "papermill": {
     "duration": 0.031084,
     "end_time": "2021-06-24T04:29:04.424560",
     "exception": false,
     "start_time": "2021-06-24T04:29:04.393476",
     "status": "completed"
    },
    "tags": []
   },
   "outputs": [],
   "source": [
    "train.loc[train['Amount']>train['Cost_of_vehicle'],'Amount']=train.Amount.median()"
   ]
  },
  {
   "cell_type": "code",
   "execution_count": 9,
   "id": "derived-grammar",
   "metadata": {
    "execution": {
     "iopub.execute_input": "2021-06-24T04:29:04.476995Z",
     "iopub.status.busy": "2021-06-24T04:29:04.476128Z",
     "iopub.status.idle": "2021-06-24T04:29:04.774869Z",
     "shell.execute_reply": "2021-06-24T04:29:04.775494Z",
     "shell.execute_reply.started": "2021-06-24T03:27:27.886932Z"
    },
    "papermill": {
     "duration": 0.328216,
     "end_time": "2021-06-24T04:29:04.775639",
     "exception": false,
     "start_time": "2021-06-24T04:29:04.447423",
     "status": "completed"
    },
    "tags": []
   },
   "outputs": [
    {
     "data": {
      "text/plain": [
       "<AxesSubplot:>"
      ]
     },
     "execution_count": 9,
     "metadata": {},
     "output_type": "execute_result"
    },
    {
     "data": {
      "image/png": "[encoded data removed]",
      "text/plain": [
       "<Figure size 576x576 with 2 Axes>"
      ]
     },
     "metadata": {
      "needs_background": "light"
     },
     "output_type": "display_data"
    }
   ],
   "source": [
    "plt.figure(figsize=(8,8))\n",
    "sns.heatmap(train.corr(),annot=True)"
   ]
  },
  {
   "cell_type": "code",
   "execution_count": 10,
   "id": "dense-uncertainty",
   "metadata": {
    "execution": {
     "iopub.execute_input": "2021-06-24T04:29:04.831336Z",
     "iopub.status.busy": "2021-06-24T04:29:04.830578Z",
     "iopub.status.idle": "2021-06-24T04:29:04.836000Z",
     "shell.execute_reply": "2021-06-24T04:29:04.835563Z",
     "shell.execute_reply.started": "2021-06-24T03:27:33.063698Z"
    },
    "papermill": {
     "duration": 0.03592,
     "end_time": "2021-06-24T04:29:04.836103",
     "exception": false,
     "start_time": "2021-06-24T04:29:04.800183",
     "status": "completed"
    },
    "tags": []
   },
   "outputs": [
    {
     "data": {
      "text/plain": [
       "0    97\n",
       "Name: Condition, dtype: int64"
      ]
     },
     "execution_count": 10,
     "metadata": {},
     "output_type": "execute_result"
    }
   ],
   "source": [
    "train.loc[(train.Max_coverage>13460)]['Condition'].value_counts()"
   ]
  },
  {
   "cell_type": "code",
   "execution_count": 11,
   "id": "monthly-abuse",
   "metadata": {
    "execution": {
     "iopub.execute_input": "2021-06-24T04:29:04.890656Z",
     "iopub.status.busy": "2021-06-24T04:29:04.889993Z",
     "iopub.status.idle": "2021-06-24T04:29:04.892275Z",
     "shell.execute_reply": "2021-06-24T04:29:04.892633Z",
     "shell.execute_reply.started": "2021-06-24T03:27:34.327108Z"
    },
    "papermill": {
     "duration": 0.031678,
     "end_time": "2021-06-24T04:29:04.892751",
     "exception": false,
     "start_time": "2021-06-24T04:29:04.861073",
     "status": "completed"
    },
    "tags": []
   },
   "outputs": [],
   "source": [
    "test['Condition']=test['Max_coverage'].apply(lambda x: 0 if x>13460 else 1)"
   ]
  },
  {
   "cell_type": "code",
   "execution_count": 12,
   "id": "above-illinois",
   "metadata": {
    "execution": {
     "iopub.execute_input": "2021-06-24T04:29:04.947066Z",
     "iopub.status.busy": "2021-06-24T04:29:04.946283Z",
     "iopub.status.idle": "2021-06-24T04:29:04.949833Z",
     "shell.execute_reply": "2021-06-24T04:29:04.949409Z",
     "shell.execute_reply.started": "2021-06-24T03:27:35.674841Z"
    },
    "papermill": {
     "duration": 0.032733,
     "end_time": "2021-06-24T04:29:04.949948",
     "exception": false,
     "start_time": "2021-06-24T04:29:04.917215",
     "status": "completed"
    },
    "tags": []
   },
   "outputs": [
    {
     "data": {
      "text/plain": [
       "1    557\n",
       "0     43\n",
       "Name: Condition, dtype: int64"
      ]
     },
     "execution_count": 12,
     "metadata": {},
     "output_type": "execute_result"
    }
   ],
   "source": [
    "test['Condition'].value_counts()"
   ]
  },
  {
   "cell_type": "code",
   "execution_count": 13,
   "id": "acquired-genetics",
   "metadata": {
    "execution": {
     "iopub.execute_input": "2021-06-24T04:29:05.017162Z",
     "iopub.status.busy": "2021-06-24T04:29:05.016318Z",
     "iopub.status.idle": "2021-06-24T04:29:06.918301Z",
     "shell.execute_reply": "2021-06-24T04:29:06.919263Z",
     "shell.execute_reply.started": "2021-06-24T03:27:47.143998Z"
    },
    "papermill": {
     "duration": 1.944876,
     "end_time": "2021-06-24T04:29:06.919477",
     "exception": false,
     "start_time": "2021-06-24T04:29:04.974601",
     "status": "completed"
    },
    "tags": []
   },
   "outputs": [
    {
     "name": "stdout",
     "output_type": "stream",
     "text": [
      "Validation MAE 2041.6124670960241\n"
     ]
    }
   ],
   "source": [
    "train=train.fillna(method='bfill',axis=0).fillna(0)\n",
    "features_num = ['Cost_of_vehicle', 'Min_coverage', 'Max_coverage']\n",
    "features_cat = ['Insurance_company']\n",
    "le= LabelEncoder()   \n",
    "train['Insurance_company'] = le.fit_transform(train['Insurance_company'])\n",
    "test['Insurance_company'] = le.transform(test['Insurance_company'])\n",
    "preprocessor = make_column_transformer(\n",
    "    (StandardScaler(), features_num),\n",
    ")\n",
    "\n",
    "y = train['Amount']\n",
    "train_imputed = train.loc[:,['Cost_of_vehicle', 'Min_coverage', 'Max_coverage', 'Insurance_company']]\n",
    "X = preprocessor.fit_transform(train_imputed)\n",
    "\n",
    "test_imputed = test.loc[:,['Cost_of_vehicle', 'Min_coverage',  'Max_coverage', 'Insurance_company']]\n",
    "test_X = preprocessor.transform(test_imputed)\n",
    "train_X, val_X, train_y, val_y = train_test_split(X,y,random_state=1,test_size=0.2)\n",
    "rf_model = RandomForestRegressor(random_state=1, n_estimators = 1000, max_depth=3)\n",
    "rf_model.fit(train_X,train_y)\n",
    "val_preds = rf_model.predict(val_X)\n",
    "rf_val_mae = mean_absolute_error(val_y,val_preds)\n",
    "\n",
    "print(\"Validation MAE {}\".format(rf_val_mae))"
   ]
  },
  {
   "cell_type": "code",
   "execution_count": 14,
   "id": "great-wilson",
   "metadata": {
    "execution": {
     "iopub.execute_input": "2021-06-24T04:29:07.014453Z",
     "iopub.status.busy": "2021-06-24T04:29:07.013722Z",
     "iopub.status.idle": "2021-06-24T04:29:07.116407Z",
     "shell.execute_reply": "2021-06-24T04:29:07.115873Z",
     "shell.execute_reply.started": "2021-06-24T03:27:51.269263Z"
    },
    "papermill": {
     "duration": 0.155214,
     "end_time": "2021-06-24T04:29:07.116533",
     "exception": false,
     "start_time": "2021-06-24T04:29:06.961319",
     "status": "completed"
    },
    "tags": []
   },
   "outputs": [],
   "source": [
    "test_Y=rf_model.predict(test_X)"
   ]
  },
  {
   "cell_type": "code",
   "execution_count": 15,
   "id": "religious-spouse",
   "metadata": {
    "execution": {
     "iopub.execute_input": "2021-06-24T04:29:07.180177Z",
     "iopub.status.busy": "2021-06-24T04:29:07.179674Z",
     "iopub.status.idle": "2021-06-24T04:29:07.191208Z",
     "shell.execute_reply": "2021-06-24T04:29:07.190746Z",
     "shell.execute_reply.started": "2021-06-24T03:27:53.006977Z"
    },
    "papermill": {
     "duration": 0.049728,
     "end_time": "2021-06-24T04:29:07.191319",
     "exception": false,
     "start_time": "2021-06-24T04:29:07.141591",
     "status": "completed"
    },
    "tags": []
   },
   "outputs": [],
   "source": [
    "sample_submission=pd.read_csv(\"../input/thesese/submission.csv\")\n",
    "sample_submission['Condition']=test['Condition']\n",
    "sample_submission['Amount']=test_Y"
   ]
  },
  {
   "cell_type": "code",
   "execution_count": 16,
   "id": "unable-monroe",
   "metadata": {
    "execution": {
     "iopub.execute_input": "2021-06-24T04:29:07.244518Z",
     "iopub.status.busy": "2021-06-24T04:29:07.244014Z",
     "iopub.status.idle": "2021-06-24T04:29:07.362727Z",
     "shell.execute_reply": "2021-06-24T04:29:07.362329Z",
     "shell.execute_reply.started": "2021-06-24T03:27:54.722865Z"
    },
    "papermill": {
     "duration": 0.146629,
     "end_time": "2021-06-24T04:29:07.362833",
     "exception": false,
     "start_time": "2021-06-24T04:29:07.216204",
     "status": "completed"
    },
    "tags": []
   },
   "outputs": [],
   "source": [
    "sample_submission.to_csv(\"submission.csv\",index=False)"
   ]
  },
  {
   "cell_type": "markdown",
   "id": "great-authentication",
   "metadata": {
    "papermill": {
     "duration": 0.025807,
     "end_time": "2021-06-24T04:29:07.413625",
     "exception": false,
     "start_time": "2021-06-24T04:29:07.387818",
     "status": "completed"
    },
    "tags": []
   },
   "source": [
    "# DEEP LEARNING  MODEL"
   ]
  },
  {
   "cell_type": "code",
   "execution_count": 17,
   "id": "diagnostic-firewall",
   "metadata": {
    "execution": {
     "iopub.execute_input": "2021-06-24T04:29:07.469736Z",
     "iopub.status.busy": "2021-06-24T04:29:07.469009Z",
     "iopub.status.idle": "2021-06-24T04:29:07.478444Z",
     "shell.execute_reply": "2021-06-24T04:29:07.478047Z",
     "shell.execute_reply.started": "2021-06-24T04:15:11.166476Z"
    },
    "papermill": {
     "duration": 0.039856,
     "end_time": "2021-06-24T04:29:07.478545",
     "exception": false,
     "start_time": "2021-06-24T04:29:07.438689",
     "status": "completed"
    },
    "tags": []
   },
   "outputs": [],
   "source": [
    "train=pd.read_csv(\"../input/fast-furious-and-insured/Fast_Furious_Insured/train.csv\")\n",
    "test=pd.read_csv(\"../input/fast-furious-and-insured/Fast_Furious_Insured/test.csv\")\n",
    "train_folder=\"../input/fast-furious-and-insured/Fast_Furious_Insured/trainImages/\"\n",
    "test_folder=\"../input/fast-furious-and-insured/Fast_Furious_Insured/testImages/\"\n",
    "batch_size=32\n",
    "img_size=224\n"
   ]
  },
  {
   "cell_type": "code",
   "execution_count": 18,
   "id": "shared-request",
   "metadata": {
    "execution": {
     "iopub.execute_input": "2021-06-24T04:29:07.540381Z",
     "iopub.status.busy": "2021-06-24T04:29:07.539608Z",
     "iopub.status.idle": "2021-06-24T04:29:54.935796Z",
     "shell.execute_reply": "2021-06-24T04:29:54.935335Z",
     "shell.execute_reply.started": "2021-06-24T04:15:11.824298Z"
    },
    "papermill": {
     "duration": 47.432659,
     "end_time": "2021-06-24T04:29:54.935947",
     "exception": false,
     "start_time": "2021-06-24T04:29:07.503288",
     "status": "completed"
    },
    "tags": []
   },
   "outputs": [],
   "source": [
    "class_0=train[train['Condition']==0]\n",
    "class_1=train[train['Condition']==1]\n",
    "class_0=resample(class_0,n_samples=len(class_1),random_state=42)\n",
    "df=pd.concat((class_0,class_1))\n",
    "df=df.sample(frac=1)\n",
    "\n",
    "augment=albumentations.Compose([\n",
    "    albumentations.HorizontalFlip(),\n",
    "    albumentations.VerticalFlip(),\n",
    "    albumentations.ShiftScaleRotate(),\n",
    "    albumentations.HueSaturationValue(hue_shift_limit=10,sat_shift_limit=10,val_shift_limit=10),\n",
    "    albumentations.RandomBrightnessContrast(),\n",
    "    albumentations.OneOf([\n",
    "        albumentations.GaussNoise(),\n",
    "        albumentations.GaussianBlur(),\n",
    "        albumentations.MotionBlur()\n",
    "    ],p=0.3)\n",
    "    \n",
    "    \n",
    "])\n",
    "X=np.zeros((len(df),img_size,img_size,3))\n",
    "y=np.zeros((len(df),1))\n",
    "X_test=np.zeros((len(test),img_size,img_size,3))\n",
    "a=0\n",
    "for i,j in df.iterrows():\n",
    "    path=os.path.join(train_folder,j['Image_path'])\n",
    "    image=cv2.imread(path)\n",
    "    if(j['Condition']==0):\n",
    "        image=augment(image=image)['image']\n",
    "    image=cv2.resize(image,(img_size,img_size))\n",
    "    image=image.astype(\"float32\")/255.0\n",
    "    X[a,:]=image\n",
    "    y[a,:]=j['Condition']\n",
    "    a+=1\n",
    "a=0    \n",
    "for i,j in test.iterrows():\n",
    "    path=os.path.join(test_folder,j['Image_path'])\n",
    "    image=cv2.imread(path)\n",
    "    image=cv2.resize(image,(img_size,img_size))\n",
    "    image=image.astype(\"float32\")/255.0\n",
    "    X_test[a,:]=image\n",
    "    a+=1\n",
    "X_train,X_val,y_train,y_val=train_test_split(X,y,test_size=0.2,random_state=42)\n",
    "   "
   ]
  },
  {
   "cell_type": "code",
   "execution_count": 19,
   "id": "theoretical-wealth",
   "metadata": {
    "execution": {
     "iopub.execute_input": "2021-06-24T04:29:54.993030Z",
     "iopub.status.busy": "2021-06-24T04:29:54.992330Z",
     "iopub.status.idle": "2021-06-24T04:29:54.995898Z",
     "shell.execute_reply": "2021-06-24T04:29:54.996487Z",
     "shell.execute_reply.started": "2021-06-24T04:15:47.860298Z"
    },
    "papermill": {
     "duration": 0.034237,
     "end_time": "2021-06-24T04:29:54.996651",
     "exception": false,
     "start_time": "2021-06-24T04:29:54.962414",
     "status": "completed"
    },
    "tags": []
   },
   "outputs": [
    {
     "name": "stdout",
     "output_type": "stream",
     "text": [
      "1043\n",
      "1037\n"
     ]
    }
   ],
   "source": [
    "print(len(y_train[y_train==1]))\n",
    "print(len(y_train[y_train==0]))"
   ]
  },
  {
   "cell_type": "code",
   "execution_count": 20,
   "id": "recent-ceremony",
   "metadata": {
    "execution": {
     "iopub.execute_input": "2021-06-24T04:29:55.055611Z",
     "iopub.status.busy": "2021-06-24T04:29:55.054393Z",
     "iopub.status.idle": "2021-06-24T04:29:55.057098Z",
     "shell.execute_reply": "2021-06-24T04:29:55.056691Z",
     "shell.execute_reply.started": "2021-06-24T04:15:47.869254Z"
    },
    "papermill": {
     "duration": 0.033858,
     "end_time": "2021-06-24T04:29:55.057211",
     "exception": false,
     "start_time": "2021-06-24T04:29:55.023353",
     "status": "completed"
    },
    "tags": []
   },
   "outputs": [],
   "source": [
    "LR_START = 0.00001\n",
    "LR_MAX = 0.00005\n",
    "LR_MIN = 0.00001\n",
    "LR_RAMPUP_EPOCHS = 5\n",
    "LR_SUSTAIN_EPOCHS = 0\n",
    "LR_DECAY = .8\n",
    "\n",
    "def lr_schedule(epoch):\n",
    "    if epoch < LR_RAMPUP_EPOCHS:\n",
    "        lr = (LR_MAX - LR_START) / LR_RAMPUP_EPOCHS * epoch + LR_START\n",
    "    elif epoch < LR_RAMPUP_EPOCHS + LR_SUSTAIN_EPOCHS:\n",
    "        lr = LR_MAX\n",
    "    else:\n",
    "        lr = (LR_MAX - LR_MIN) * LR_DECAY**(epoch - LR_RAMPUP_EPOCHS - LR_SUSTAIN_EPOCHS) + LR_MIN\n",
    "    return lr\n",
    "\n",
    "\n",
    "lr_callback = tf.keras.callbacks.LearningRateScheduler(lr_schedule, verbose = True)\n",
    "es=tf.keras.callbacks.EarlyStopping(patience=3)"
   ]
  },
  {
   "cell_type": "code",
   "execution_count": 21,
   "id": "prepared-hospital",
   "metadata": {
    "execution": {
     "iopub.execute_input": "2021-06-24T04:29:55.116919Z",
     "iopub.status.busy": "2021-06-24T04:29:55.116397Z",
     "iopub.status.idle": "2021-06-24T04:30:02.993905Z",
     "shell.execute_reply": "2021-06-24T04:30:02.992948Z",
     "shell.execute_reply.started": "2021-06-24T04:15:47.880671Z"
    },
    "papermill": {
     "duration": 7.911195,
     "end_time": "2021-06-24T04:30:02.994068",
     "exception": false,
     "start_time": "2021-06-24T04:29:55.082873",
     "status": "completed"
    },
    "tags": []
   },
   "outputs": [
    {
     "name": "stdout",
     "output_type": "stream",
     "text": [
      "Downloading data from https://storage.googleapis.com/tensorflow/keras-applications/densenet/densenet169_weights_tf_dim_ordering_tf_kernels_notop.h5\n",
      "51879936/51877672 [==============================] - 1s 0us/step\n"
     ]
    }
   ],
   "source": [
    "Model=tf.keras.applications.DenseNet169(input_shape=(img_size,img_size,3),include_top=False)\n",
    "Model.trainable=True\n",
    "model=tf.keras.models.Sequential([\n",
    "    Model,\n",
    "    tf.keras.layers.GlobalAveragePooling2D(),\n",
    "    tf.keras.layers.Dense(256,activation='relu'),\n",
    "    tf.keras.layers.Dropout(0.4),\n",
    "    tf.keras.layers.Dense(1,activation='sigmoid')\n",
    "])\n",
    "model.compile(loss='binary_crossentropy',optimizer='adam',metrics=[tf.keras.metrics.BinaryAccuracy()])"
   ]
  },
  {
   "cell_type": "code",
   "execution_count": 22,
   "id": "coupled-mason",
   "metadata": {
    "execution": {
     "iopub.execute_input": "2021-06-24T04:30:03.059116Z",
     "iopub.status.busy": "2021-06-24T04:30:03.058462Z",
     "iopub.status.idle": "2021-06-24T04:33:42.763579Z",
     "shell.execute_reply": "2021-06-24T04:33:42.763110Z",
     "shell.execute_reply.started": "2021-06-24T04:15:53.321796Z"
    },
    "papermill": {
     "duration": 219.740661,
     "end_time": "2021-06-24T04:33:42.763719",
     "exception": false,
     "start_time": "2021-06-24T04:30:03.023058",
     "status": "completed"
    },
    "tags": []
   },
   "outputs": [
    {
     "name": "stdout",
     "output_type": "stream",
     "text": [
      "Epoch 1/50\n",
      "\n",
      "Epoch 00001: LearningRateScheduler reducing learning rate to 1e-05.\n",
      "65/65 [==============================] - 39s 306ms/step - loss: 0.7183 - binary_accuracy: 0.5667 - val_loss: 0.4463 - val_binary_accuracy: 0.8404\n",
      "Epoch 2/50\n",
      "\n",
      "Epoch 00002: LearningRateScheduler reducing learning rate to 1.8000000000000004e-05.\n",
      "65/65 [==============================] - 16s 252ms/step - loss: 0.3744 - binary_accuracy: 0.8475 - val_loss: 0.2565 - val_binary_accuracy: 0.9250\n",
      "Epoch 3/50\n",
      "\n",
      "Epoch 00003: LearningRateScheduler reducing learning rate to 2.6000000000000002e-05.\n",
      "65/65 [==============================] - 16s 251ms/step - loss: 0.1852 - binary_accuracy: 0.9464 - val_loss: 0.1387 - val_binary_accuracy: 0.9635\n",
      "Epoch 4/50\n",
      "\n",
      "Epoch 00004: LearningRateScheduler reducing learning rate to 3.4000000000000007e-05.\n",
      "65/65 [==============================] - 16s 249ms/step - loss: 0.0903 - binary_accuracy: 0.9839 - val_loss: 0.0811 - val_binary_accuracy: 0.9788\n",
      "Epoch 5/50\n",
      "\n",
      "Epoch 00005: LearningRateScheduler reducing learning rate to 4.2000000000000004e-05.\n",
      "65/65 [==============================] - 16s 250ms/step - loss: 0.0379 - binary_accuracy: 0.9951 - val_loss: 0.0541 - val_binary_accuracy: 0.9846\n",
      "Epoch 6/50\n",
      "\n",
      "Epoch 00006: LearningRateScheduler reducing learning rate to 5e-05.\n",
      "65/65 [==============================] - 16s 250ms/step - loss: 0.0180 - binary_accuracy: 0.9972 - val_loss: 0.0292 - val_binary_accuracy: 0.9942\n",
      "Epoch 7/50\n",
      "\n",
      "Epoch 00007: LearningRateScheduler reducing learning rate to 4.2000000000000004e-05.\n",
      "65/65 [==============================] - 16s 250ms/step - loss: 0.0120 - binary_accuracy: 0.9998 - val_loss: 0.0306 - val_binary_accuracy: 0.9885\n",
      "Epoch 8/50\n",
      "\n",
      "Epoch 00008: LearningRateScheduler reducing learning rate to 3.5600000000000005e-05.\n",
      "65/65 [==============================] - 16s 250ms/step - loss: 0.0102 - binary_accuracy: 1.0000 - val_loss: 0.0255 - val_binary_accuracy: 0.9923\n",
      "Epoch 9/50\n",
      "\n",
      "Epoch 00009: LearningRateScheduler reducing learning rate to 3.0480000000000006e-05.\n",
      "65/65 [==============================] - 16s 250ms/step - loss: 0.0040 - binary_accuracy: 1.0000 - val_loss: 0.0252 - val_binary_accuracy: 0.9942\n",
      "Epoch 10/50\n",
      "\n",
      "Epoch 00010: LearningRateScheduler reducing learning rate to 2.6384000000000004e-05.\n",
      "65/65 [==============================] - 16s 250ms/step - loss: 0.0036 - binary_accuracy: 1.0000 - val_loss: 0.0256 - val_binary_accuracy: 0.9923\n",
      "Epoch 11/50\n",
      "\n",
      "Epoch 00011: LearningRateScheduler reducing learning rate to 2.3107200000000005e-05.\n",
      "65/65 [==============================] - 16s 250ms/step - loss: 0.0039 - binary_accuracy: 1.0000 - val_loss: 0.0256 - val_binary_accuracy: 0.9923\n",
      "Epoch 12/50\n",
      "\n",
      "Epoch 00012: LearningRateScheduler reducing learning rate to 2.0485760000000004e-05.\n",
      "65/65 [==============================] - 16s 252ms/step - loss: 0.0025 - binary_accuracy: 1.0000 - val_loss: 0.0275 - val_binary_accuracy: 0.9885\n"
     ]
    },
    {
     "data": {
      "text/plain": [
       "<tensorflow.python.keras.callbacks.History at 0x7efd3203d250>"
      ]
     },
     "execution_count": 22,
     "metadata": {},
     "output_type": "execute_result"
    }
   ],
   "source": [
    "model.fit(X_train,y_train,epochs=50,validation_data=(X_val,y_val),callbacks=[lr_callback,es])"
   ]
  },
  {
   "cell_type": "code",
   "execution_count": 23,
   "id": "impressed-geology",
   "metadata": {
    "execution": {
     "iopub.execute_input": "2021-06-24T04:33:43.237762Z",
     "iopub.status.busy": "2021-06-24T04:33:43.236891Z",
     "iopub.status.idle": "2021-06-24T04:33:43.450251Z",
     "shell.execute_reply": "2021-06-24T04:33:43.450664Z",
     "shell.execute_reply.started": "2021-06-24T04:24:29.112249Z"
    },
    "papermill": {
     "duration": 0.455852,
     "end_time": "2021-06-24T04:33:43.450799",
     "exception": false,
     "start_time": "2021-06-24T04:33:42.994947",
     "status": "completed"
    },
    "tags": []
   },
   "outputs": [
    {
     "data": {
      "text/plain": [
       "[<matplotlib.lines.Line2D at 0x7ef8dd2d1490>,\n",
       " <matplotlib.lines.Line2D at 0x7ef8dd2c12d0>]"
      ]
     },
     "execution_count": 23,
     "metadata": {},
     "output_type": "execute_result"
    },
    {
     "data": {
      "image/png": "[encoded data removed]",
      "text/plain": [
       "<Figure size 576x576 with 2 Axes>"
      ]
     },
     "metadata": {
      "needs_background": "light"
     },
     "output_type": "display_data"
    }
   ],
   "source": [
    "history=pd.DataFrame(model.history.history)\n",
    "plt.figure(figsize=(8,8))\n",
    "plt.subplot(1,2,1)\n",
    "plt.plot(history[['loss','val_loss']])\n",
    "plt.subplot(1,2,2)\n",
    "plt.plot(history[['binary_accuracy','val_binary_accuracy']])"
   ]
  },
  {
   "cell_type": "code",
   "execution_count": 24,
   "id": "ongoing-ontario",
   "metadata": {
    "execution": {
     "iopub.execute_input": "2021-06-24T04:33:43.951416Z",
     "iopub.status.busy": "2021-06-24T04:33:43.950483Z",
     "iopub.status.idle": "2021-06-24T04:33:48.649364Z",
     "shell.execute_reply": "2021-06-24T04:33:48.648834Z",
     "shell.execute_reply.started": "2021-06-24T04:25:11.766037Z"
    },
    "papermill": {
     "duration": 4.933934,
     "end_time": "2021-06-24T04:33:48.649498",
     "exception": false,
     "start_time": "2021-06-24T04:33:43.715564",
     "status": "completed"
    },
    "tags": []
   },
   "outputs": [],
   "source": [
    "predictions=model.predict(X_test)\n",
    "predictions=np.where(predictions>0.5,1,0)\n",
    "sample_submission['Condition']=predictions\n",
    "sample_submission.to_csv(\"submission.csv\",index=False)"
   ]
  },
  {
   "cell_type": "code",
   "execution_count": null,
   "id": "tamil-checklist",
   "metadata": {
    "papermill": {
     "duration": 0.229349,
     "end_time": "2021-06-24T04:33:49.106528",
     "exception": false,
     "start_time": "2021-06-24T04:33:48.877179",
     "status": "completed"
    },
    "tags": []
   },
   "outputs": [],
   "source": []
  }
 ],
 "metadata": {
  "kernelspec": {
   "display_name": "Python 3",
   "language": "python",
   "name": "python3"
  },
  "language_info": {
   "codemirror_mode": {
    "name": "ipython",
    "version": 3
   },
   "file_extension": ".py",
   "mimetype": "text/x-python",
   "name": "python",
   "nbconvert_exporter": "python",
   "pygments_lexer": "ipython3",
   "version": "3.7.10"
  },
  "papermill": {
   "default_parameters": {},
   "duration": 306.782039,
   "end_time": "2021-06-24T04:33:52.959873",
   "environment_variables": {},
   "exception": null,
   "input_path": "__notebook__.ipynb",
   "output_path": "__notebook__.ipynb",
   "parameters": {},
   "start_time": "2021-06-24T04:28:46.177834",
   "version": "2.3.3"
  }
 },
 "nbformat": 4,
 "nbformat_minor": 5
}
